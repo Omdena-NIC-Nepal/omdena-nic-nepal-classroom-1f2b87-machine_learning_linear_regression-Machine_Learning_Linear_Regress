{
 "cells": [
  {
   "cell_type": "markdown",
   "id": "12c73610-6b8f-4cbe-8c99-eac4da05302f",
   "metadata": {},
   "source": [
    "Task 2: Data Preprocessing"
   ]
  },
  {
   "cell_type": "code",
   "execution_count": 1,
   "id": "241fed9e-a733-47d1-8840-0db2839848da",
   "metadata": {},
   "outputs": [],
   "source": [
    "# Import necessary libraries\n",
    "import pandas as pd\n",
    "from sklearn.model_selection import train_test_split\n",
    "from sklearn.preprocessing import StandardScaler, OneHotEncoder\n",
    "from sklearn.compose import ColumnTransformer\n",
    "from sklearn.pipeline import Pipeline"
   ]
  },
  {
   "cell_type": "code",
   "execution_count": 3,
   "id": "1bf1e435-8e4f-4fc5-85dd-9dbc7ca0892a",
   "metadata": {},
   "outputs": [],
   "source": [
    "# Load the dataset\n",
    "df = pd.read_csv('/Users/anish/Desktop/Boston_housing.csv')"
   ]
  },
  {
   "cell_type": "code",
   "execution_count": 4,
   "id": "ce9279d6-0e16-48d1-b51a-b9a30d4e0400",
   "metadata": {},
   "outputs": [],
   "source": [
    "# Handle missing values (example: drop rows with missing values)\n",
    "df = df.dropna()"
   ]
  },
  {
   "cell_type": "code",
   "execution_count": 5,
   "id": "fd693474-6974-4cd8-9b85-a83467173f38",
   "metadata": {},
   "outputs": [],
   "source": [
    "# Identify and handle outliers (simple approach)\n",
    "df = df[df['rm'] < 10] "
   ]
  },
  {
   "cell_type": "code",
   "execution_count": 6,
   "id": "19732436-e81e-43cc-89d3-3bdea06ed244",
   "metadata": {},
   "outputs": [],
   "source": [
    "# Feature and target separation\n",
    "X = df.drop('medv', axis=1)\n",
    "y = df['medv']"
   ]
  },
  {
   "cell_type": "code",
   "execution_count": 7,
   "id": "043afdf3-8062-460c-9116-ba7e507fe81a",
   "metadata": {},
   "outputs": [],
   "source": [
    "# Normalize/Standardize numerical features\n",
    "numerical_features = X.select_dtypes(include=['int64', 'float64']).columns\n",
    "numerical_transformer = StandardScaler()"
   ]
  },
  {
   "cell_type": "code",
   "execution_count": 8,
   "id": "90809fa8-0d1b-4b6f-8402-1e6f3f116028",
   "metadata": {},
   "outputs": [],
   "source": [
    "# No categorical variables in this dataset, so only numerical processing\n",
    "preprocessor = ColumnTransformer(\n",
    "    transformers=[\n",
    "        ('num', numerical_transformer, numerical_features)\n",
    "    ])"
   ]
  },
  {
   "cell_type": "code",
   "execution_count": 9,
   "id": "ef519422-b898-4b87-a70f-90a12cc5ed36",
   "metadata": {},
   "outputs": [],
   "source": [
    "# Apply transformations\n",
    "X_preprocessed = preprocessor.fit_transform(X)"
   ]
  },
  {
   "cell_type": "code",
   "execution_count": 10,
   "id": "4a6da87b-60ed-4c10-a3ff-724a443dd41c",
   "metadata": {},
   "outputs": [],
   "source": [
    "# Split the data into training and testing sets\n",
    "X_train, X_test, y_train, y_test = train_test_split(X_preprocessed, y, test_size=0.2, random_state=42)"
   ]
  },
  {
   "cell_type": "code",
   "execution_count": 15,
   "id": "296eb4be-77ac-48a5-bf24-e61b420f332d",
   "metadata": {},
   "outputs": [],
   "source": [
    "# Save the preprocessed data (optional)\n",
    "pd.DataFrame(X_train).to_csv('/Users/anish/Desktop/X_train.csv', index=False)\n",
    "pd.DataFrame(X_test).to_csv('/Users/anish/Desktop/X_test.csv', index=False)\n",
    "pd.DataFrame(y_train).to_csv('/Users/anish/Desktop/y_train.csv', index=False)\n",
    "pd.DataFrame(y_test).to_csv('/Users/anish/Desktop/y_test.csv', index=False)"
   ]
  },
  {
   "cell_type": "code",
   "execution_count": null,
   "id": "d7d2a776-ad4e-4940-8cb8-29da8c3289c7",
   "metadata": {},
   "outputs": [],
   "source": []
  }
 ],
 "metadata": {
  "kernelspec": {
   "display_name": "Python 3 (ipykernel)",
   "language": "python",
   "name": "python3"
  },
  "language_info": {
   "codemirror_mode": {
    "name": "ipython",
    "version": 3
   },
   "file_extension": ".py",
   "mimetype": "text/x-python",
   "name": "python",
   "nbconvert_exporter": "python",
   "pygments_lexer": "ipython3",
   "version": "3.11.7"
  }
 },
 "nbformat": 4,
 "nbformat_minor": 5
}
